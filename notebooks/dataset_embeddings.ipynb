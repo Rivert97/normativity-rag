{
 "cells": [
  {
   "cell_type": "markdown",
   "metadata": {},
   "source": [
    "# Convert Dataset from text to embeddings"
   ]
  },
  {
   "cell_type": "code",
   "execution_count": 1,
   "metadata": {},
   "outputs": [],
   "source": [
    "# Module imports\n",
    "import os\n",
    "\n",
    "from datasets import load_dataset\n",
    "from sentence_transformers import SentenceTransformer\n",
    "import pandas as pd"
   ]
  },
  {
   "cell_type": "code",
   "execution_count": 2,
   "metadata": {},
   "outputs": [],
   "source": [
    "# Setting up environment variables\n",
    "os.environ['HF_HOME'] = '$HOME/tesis/00_src/run/models'"
   ]
  },
  {
   "cell_type": "code",
   "execution_count": 3,
   "metadata": {},
   "outputs": [],
   "source": [
    "# Global variables\n",
    "DATASET_NAME = 'Rivert97/ug-normativity'\n",
    "#MODEL_NAME = 'multi-qa-mpnet-base-dot-v1'\n",
    "#OUT_DIR = '/home/rgarcia/tesis/00_src/normativity-rag/outs/dataset/multi_qa_mpnet'\n",
    "MODEL_NAME = 'multi-qa-distilbert-cos-v1'\n",
    "OUT_DIR = '/home/rgarcia/tesis/00_src/normativity-rag/outs/dataset/multi_qa_distilbert'"
   ]
  },
  {
   "cell_type": "code",
   "execution_count": 4,
   "metadata": {},
   "outputs": [],
   "source": [
    "# Loading embeddings model\n",
    "model = SentenceTransformer(MODEL_NAME, device='cuda')"
   ]
  },
  {
   "cell_type": "code",
   "execution_count": 5,
   "metadata": {},
   "outputs": [
    {
     "data": {
      "text/plain": [
       "Dataset({\n",
       "    features: ['id', 'title', 'context', 'additional_context', 'question', 'answers'],\n",
       "    num_rows: 1836\n",
       "})"
      ]
     },
     "execution_count": 5,
     "metadata": {},
     "output_type": "execute_result"
    }
   ],
   "source": [
    "# Loading the questions\n",
    "dataset = load_dataset(DATASET_NAME)\n",
    "dataset = dataset['train']\n",
    "dataset"
   ]
  },
  {
   "cell_type": "code",
   "execution_count": 6,
   "metadata": {},
   "outputs": [],
   "source": [
    "# Converting questions to embeddings\n",
    "for title in sorted(set(dataset['title'])):\n",
    "    filtered = dataset.filter(lambda row: row['title'] == title)\n",
    "\n",
    "    embeddings = model.encode(filtered['question'])\n",
    "\n",
    "    df = pd.DataFrame(embeddings)\n",
    "    df.index = filtered['id']\n",
    "\n",
    "    df.to_csv(os.path.join(OUT_DIR, f\"{title}.csv\"), sep=',')"
   ]
  }
 ],
 "metadata": {
  "kernelspec": {
   "display_name": "Tesis",
   "language": "python",
   "name": "tesis"
  },
  "language_info": {
   "codemirror_mode": {
    "name": "ipython",
    "version": 3
   },
   "file_extension": ".py",
   "mimetype": "text/x-python",
   "name": "python",
   "nbconvert_exporter": "python",
   "pygments_lexer": "ipython3",
   "version": "3.12.7"
  }
 },
 "nbformat": 4,
 "nbformat_minor": 2
}
